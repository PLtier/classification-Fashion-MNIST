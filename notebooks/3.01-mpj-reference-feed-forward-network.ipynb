{
 "cells": [
  {
   "cell_type": "code",
   "execution_count": 1,
   "metadata": {},
   "outputs": [
    {
     "name": "stderr",
     "output_type": "stream",
     "text": [
      "2025-01-01 20:04:38.696981: I tensorflow/core/platform/cpu_feature_guard.cc:210] This TensorFlow binary is optimized to use available CPU instructions in performance-critical operations.\n",
      "To enable the following instructions: AVX2 FMA, in other operations, rebuild TensorFlow with the appropriate compiler flags.\n"
     ]
    },
    {
     "name": "stdout",
     "output_type": "stream",
     "text": [
      "(10000, 121) (10000, 5)\n"
     ]
    }
   ],
   "source": [
    "import tensorflow as tf\n",
    "import numpy as np\n",
    "from sklearn.model_selection import train_test_split\n",
    "import matplotlib.pyplot as plt\n",
    "\n",
    "NUMBER_OF_CLASSES=5\n",
    "BATCH_SIZE=32 # using minibatch of 32 samples\n",
    "\n",
    "gabriel_features = np.genfromtxt('../data/processed/train_combined_features.csv', skip_header=True, dtype=float, delimiter=',')\n",
    "y = tf.one_hot(indices=gabriel_features[:,0], depth=NUMBER_OF_CLASSES).numpy()\n",
    "X = gabriel_features[:,1:]\n",
    "\n",
    "X = X / X.max(axis=0) # alongside rows, per column\n",
    "\n",
    "print(X.shape, y.shape)\n",
    "number_of_features = X.shape[1]\n",
    "\n",
    "np.random.seed(42)"
   ]
  },
  {
   "cell_type": "code",
   "execution_count": 2,
   "metadata": {},
   "outputs": [],
   "source": [
    "X_train, X_val, y_train, y_val = train_test_split(X, y, train_size=0.8, shuffle=True, random_state=42)"
   ]
  },
  {
   "cell_type": "markdown",
   "metadata": {},
   "source": [
    "Big question:\n",
    "* Is it worthwhile to center data?\n",
    "* Is it worthwhile to scale data or normalize to (0, 1) range?\n",
    "For later!\n",
    "\n",
    "\n",
    "EDIT:\n",
    "First answer: FOR RELU YOU NEED TO SCALE FOR (0,1) AND FOR TANH FOR (-1,1) OTHERWISE IT WON'T WORK!"
   ]
  },
  {
   "cell_type": "code",
   "execution_count": 3,
   "metadata": {},
   "outputs": [
    {
     "data": {
      "text/html": [
       "<pre style=\"white-space:pre;overflow-x:auto;line-height:normal;font-family:Menlo,'DejaVu Sans Mono',consolas,'Courier New',monospace\"><span style=\"font-weight: bold\">Model: \"sequential\"</span>\n",
       "</pre>\n"
      ],
      "text/plain": [
       "\u001b[1mModel: \"sequential\"\u001b[0m\n"
      ]
     },
     "metadata": {},
     "output_type": "display_data"
    },
    {
     "data": {
      "text/html": [
       "<pre style=\"white-space:pre;overflow-x:auto;line-height:normal;font-family:Menlo,'DejaVu Sans Mono',consolas,'Courier New',monospace\">┏━━━━━━━━━━━━━━━━━━━━━━━━━━━━━━━━━┳━━━━━━━━━━━━━━━━━━━━━━━━┳━━━━━━━━━━━━━━━┓\n",
       "┃<span style=\"font-weight: bold\"> Layer (type)                    </span>┃<span style=\"font-weight: bold\"> Output Shape           </span>┃<span style=\"font-weight: bold\">       Param # </span>┃\n",
       "┡━━━━━━━━━━━━━━━━━━━━━━━━━━━━━━━━━╇━━━━━━━━━━━━━━━━━━━━━━━━╇━━━━━━━━━━━━━━━┩\n",
       "│ dropout (<span style=\"color: #0087ff; text-decoration-color: #0087ff\">Dropout</span>)               │ (<span style=\"color: #00d7ff; text-decoration-color: #00d7ff\">None</span>, <span style=\"color: #00af00; text-decoration-color: #00af00\">121</span>)            │             <span style=\"color: #00af00; text-decoration-color: #00af00\">0</span> │\n",
       "├─────────────────────────────────┼────────────────────────┼───────────────┤\n",
       "│ dense (<span style=\"color: #0087ff; text-decoration-color: #0087ff\">Dense</span>)                   │ (<span style=\"color: #00d7ff; text-decoration-color: #00d7ff\">None</span>, <span style=\"color: #00af00; text-decoration-color: #00af00\">128</span>)            │        <span style=\"color: #00af00; text-decoration-color: #00af00\">15,616</span> │\n",
       "├─────────────────────────────────┼────────────────────────┼───────────────┤\n",
       "│ dropout_1 (<span style=\"color: #0087ff; text-decoration-color: #0087ff\">Dropout</span>)             │ (<span style=\"color: #00d7ff; text-decoration-color: #00d7ff\">None</span>, <span style=\"color: #00af00; text-decoration-color: #00af00\">128</span>)            │             <span style=\"color: #00af00; text-decoration-color: #00af00\">0</span> │\n",
       "├─────────────────────────────────┼────────────────────────┼───────────────┤\n",
       "│ dense_1 (<span style=\"color: #0087ff; text-decoration-color: #0087ff\">Dense</span>)                 │ (<span style=\"color: #00d7ff; text-decoration-color: #00d7ff\">None</span>, <span style=\"color: #00af00; text-decoration-color: #00af00\">128</span>)            │        <span style=\"color: #00af00; text-decoration-color: #00af00\">16,512</span> │\n",
       "├─────────────────────────────────┼────────────────────────┼───────────────┤\n",
       "│ dropout_2 (<span style=\"color: #0087ff; text-decoration-color: #0087ff\">Dropout</span>)             │ (<span style=\"color: #00d7ff; text-decoration-color: #00d7ff\">None</span>, <span style=\"color: #00af00; text-decoration-color: #00af00\">128</span>)            │             <span style=\"color: #00af00; text-decoration-color: #00af00\">0</span> │\n",
       "├─────────────────────────────────┼────────────────────────┼───────────────┤\n",
       "│ dense_2 (<span style=\"color: #0087ff; text-decoration-color: #0087ff\">Dense</span>)                 │ (<span style=\"color: #00d7ff; text-decoration-color: #00d7ff\">None</span>, <span style=\"color: #00af00; text-decoration-color: #00af00\">128</span>)            │        <span style=\"color: #00af00; text-decoration-color: #00af00\">16,512</span> │\n",
       "├─────────────────────────────────┼────────────────────────┼───────────────┤\n",
       "│ dense_3 (<span style=\"color: #0087ff; text-decoration-color: #0087ff\">Dense</span>)                 │ (<span style=\"color: #00d7ff; text-decoration-color: #00d7ff\">None</span>, <span style=\"color: #00af00; text-decoration-color: #00af00\">5</span>)              │           <span style=\"color: #00af00; text-decoration-color: #00af00\">645</span> │\n",
       "└─────────────────────────────────┴────────────────────────┴───────────────┘\n",
       "</pre>\n"
      ],
      "text/plain": [
       "┏━━━━━━━━━━━━━━━━━━━━━━━━━━━━━━━━━┳━━━━━━━━━━━━━━━━━━━━━━━━┳━━━━━━━━━━━━━━━┓\n",
       "┃\u001b[1m \u001b[0m\u001b[1mLayer (type)                   \u001b[0m\u001b[1m \u001b[0m┃\u001b[1m \u001b[0m\u001b[1mOutput Shape          \u001b[0m\u001b[1m \u001b[0m┃\u001b[1m \u001b[0m\u001b[1m      Param #\u001b[0m\u001b[1m \u001b[0m┃\n",
       "┡━━━━━━━━━━━━━━━━━━━━━━━━━━━━━━━━━╇━━━━━━━━━━━━━━━━━━━━━━━━╇━━━━━━━━━━━━━━━┩\n",
       "│ dropout (\u001b[38;5;33mDropout\u001b[0m)               │ (\u001b[38;5;45mNone\u001b[0m, \u001b[38;5;34m121\u001b[0m)            │             \u001b[38;5;34m0\u001b[0m │\n",
       "├─────────────────────────────────┼────────────────────────┼───────────────┤\n",
       "│ dense (\u001b[38;5;33mDense\u001b[0m)                   │ (\u001b[38;5;45mNone\u001b[0m, \u001b[38;5;34m128\u001b[0m)            │        \u001b[38;5;34m15,616\u001b[0m │\n",
       "├─────────────────────────────────┼────────────────────────┼───────────────┤\n",
       "│ dropout_1 (\u001b[38;5;33mDropout\u001b[0m)             │ (\u001b[38;5;45mNone\u001b[0m, \u001b[38;5;34m128\u001b[0m)            │             \u001b[38;5;34m0\u001b[0m │\n",
       "├─────────────────────────────────┼────────────────────────┼───────────────┤\n",
       "│ dense_1 (\u001b[38;5;33mDense\u001b[0m)                 │ (\u001b[38;5;45mNone\u001b[0m, \u001b[38;5;34m128\u001b[0m)            │        \u001b[38;5;34m16,512\u001b[0m │\n",
       "├─────────────────────────────────┼────────────────────────┼───────────────┤\n",
       "│ dropout_2 (\u001b[38;5;33mDropout\u001b[0m)             │ (\u001b[38;5;45mNone\u001b[0m, \u001b[38;5;34m128\u001b[0m)            │             \u001b[38;5;34m0\u001b[0m │\n",
       "├─────────────────────────────────┼────────────────────────┼───────────────┤\n",
       "│ dense_2 (\u001b[38;5;33mDense\u001b[0m)                 │ (\u001b[38;5;45mNone\u001b[0m, \u001b[38;5;34m128\u001b[0m)            │        \u001b[38;5;34m16,512\u001b[0m │\n",
       "├─────────────────────────────────┼────────────────────────┼───────────────┤\n",
       "│ dense_3 (\u001b[38;5;33mDense\u001b[0m)                 │ (\u001b[38;5;45mNone\u001b[0m, \u001b[38;5;34m5\u001b[0m)              │           \u001b[38;5;34m645\u001b[0m │\n",
       "└─────────────────────────────────┴────────────────────────┴───────────────┘\n"
      ]
     },
     "metadata": {},
     "output_type": "display_data"
    },
    {
     "data": {
      "text/html": [
       "<pre style=\"white-space:pre;overflow-x:auto;line-height:normal;font-family:Menlo,'DejaVu Sans Mono',consolas,'Courier New',monospace\"><span style=\"font-weight: bold\"> Total params: </span><span style=\"color: #00af00; text-decoration-color: #00af00\">49,285</span> (192.52 KB)\n",
       "</pre>\n"
      ],
      "text/plain": [
       "\u001b[1m Total params: \u001b[0m\u001b[38;5;34m49,285\u001b[0m (192.52 KB)\n"
      ]
     },
     "metadata": {},
     "output_type": "display_data"
    },
    {
     "data": {
      "text/html": [
       "<pre style=\"white-space:pre;overflow-x:auto;line-height:normal;font-family:Menlo,'DejaVu Sans Mono',consolas,'Courier New',monospace\"><span style=\"font-weight: bold\"> Trainable params: </span><span style=\"color: #00af00; text-decoration-color: #00af00\">49,285</span> (192.52 KB)\n",
       "</pre>\n"
      ],
      "text/plain": [
       "\u001b[1m Trainable params: \u001b[0m\u001b[38;5;34m49,285\u001b[0m (192.52 KB)\n"
      ]
     },
     "metadata": {},
     "output_type": "display_data"
    },
    {
     "data": {
      "text/html": [
       "<pre style=\"white-space:pre;overflow-x:auto;line-height:normal;font-family:Menlo,'DejaVu Sans Mono',consolas,'Courier New',monospace\"><span style=\"font-weight: bold\"> Non-trainable params: </span><span style=\"color: #00af00; text-decoration-color: #00af00\">0</span> (0.00 B)\n",
       "</pre>\n"
      ],
      "text/plain": [
       "\u001b[1m Non-trainable params: \u001b[0m\u001b[38;5;34m0\u001b[0m (0.00 B)\n"
      ]
     },
     "metadata": {},
     "output_type": "display_data"
    }
   ],
   "source": [
    "input_shape = (number_of_features,) # need to pass that comma, as otherwise it'd be evaluated as simple int i.e. type((5))==int, type((4,))==tuple\n",
    "model = tf.keras.Sequential(\n",
    "    [\n",
    "    tf.keras.Input(shape=input_shape),\n",
    "       tf.keras.layers.Dropout(0.5),\n",
    "       tf.keras.layers.Dense(128, activation='relu', kernel_initializer='he_normal'),\n",
    "       tf.keras.layers.Dropout(0.5),\n",
    "       tf.keras.layers.Dense(128, activation='relu', kernel_initializer='he_normal'),\n",
    "       tf.keras.layers.Dropout(0.5),\n",
    "       tf.keras.layers.Dense(128, activation='relu', kernel_initializer='he_normal'),\n",
    "       tf.keras.layers.Dense(units=NUMBER_OF_CLASSES, activation='softmax', kernel_initializer='glorot_normal')\n",
    "    ]\n",
    ")\n",
    "\n",
    "model.summary()"
   ]
  },
  {
   "cell_type": "code",
   "execution_count": 4,
   "metadata": {},
   "outputs": [
    {
     "name": "stdout",
     "output_type": "stream",
     "text": [
      "Epoch 1/64\n"
     ]
    },
    {
     "name": "stderr",
     "output_type": "stream",
     "text": [
      "/Users/mpj-projects/repositories/classification-Fashion-MNIST/.venv/lib/python3.12/site-packages/keras/src/optimizers/base_optimizer.py:86: UserWarning: Argument `decay` is no longer supported and will be ignored.\n",
      "  warnings.warn(\n"
     ]
    },
    {
     "name": "stdout",
     "output_type": "stream",
     "text": [
      "\u001b[1m234/250\u001b[0m \u001b[32m━━━━━━━━━━━━━━━━━━\u001b[0m\u001b[37m━━\u001b[0m \u001b[1m0s\u001b[0m 1ms/step - AUC: 0.6197 - loss: 1.6850\n",
      "Epoch 1: val_loss improved from inf to 1.22523, saving model to best_model.weights.h5\n",
      "\u001b[1m250/250\u001b[0m \u001b[32m━━━━━━━━━━━━━━━━━━━━\u001b[0m\u001b[37m\u001b[0m \u001b[1m2s\u001b[0m 3ms/step - AUC: 0.6247 - loss: 1.6710 - val_AUC: 0.8692 - val_loss: 1.2252\n",
      "Epoch 2/64\n",
      "\u001b[1m239/250\u001b[0m \u001b[32m━━━━━━━━━━━━━━━━━━━\u001b[0m\u001b[37m━\u001b[0m \u001b[1m0s\u001b[0m 1ms/step - AUC: 0.7689 - loss: 1.3160\n",
      "Epoch 2: val_loss improved from 1.22523 to 1.11686, saving model to best_model.weights.h5\n",
      "\u001b[1m250/250\u001b[0m \u001b[32m━━━━━━━━━━━━━━━━━━━━\u001b[0m\u001b[37m\u001b[0m \u001b[1m0s\u001b[0m 2ms/step - AUC: 0.7691 - loss: 1.3153 - val_AUC: 0.8594 - val_loss: 1.1169\n",
      "Epoch 3/64\n",
      "\u001b[1m246/250\u001b[0m \u001b[32m━━━━━━━━━━━━━━━━━━━\u001b[0m\u001b[37m━\u001b[0m \u001b[1m0s\u001b[0m 2ms/step - AUC: 0.7983 - loss: 1.2452\n",
      "Epoch 3: val_loss improved from 1.11686 to 1.06355, saving model to best_model.weights.h5\n",
      "\u001b[1m250/250\u001b[0m \u001b[32m━━━━━━━━━━━━━━━━━━━━\u001b[0m\u001b[37m\u001b[0m \u001b[1m1s\u001b[0m 2ms/step - AUC: 0.7985 - loss: 1.2447 - val_AUC: 0.8719 - val_loss: 1.0636\n",
      "Epoch 4/64\n",
      "\u001b[1m245/250\u001b[0m \u001b[32m━━━━━━━━━━━━━━━━━━━\u001b[0m\u001b[37m━\u001b[0m \u001b[1m0s\u001b[0m 1ms/step - AUC: 0.8122 - loss: 1.2077\n",
      "Epoch 4: val_loss improved from 1.06355 to 0.99136, saving model to best_model.weights.h5\n",
      "\u001b[1m250/250\u001b[0m \u001b[32m━━━━━━━━━━━━━━━━━━━━\u001b[0m\u001b[37m\u001b[0m \u001b[1m1s\u001b[0m 2ms/step - AUC: 0.8121 - loss: 1.2079 - val_AUC: 0.8970 - val_loss: 0.9914\n",
      "Epoch 5/64\n",
      "\u001b[1m240/250\u001b[0m \u001b[32m━━━━━━━━━━━━━━━━━━━\u001b[0m\u001b[37m━\u001b[0m \u001b[1m0s\u001b[0m 1ms/step - AUC: 0.8100 - loss: 1.2081\n",
      "Epoch 5: val_loss improved from 0.99136 to 0.95854, saving model to best_model.weights.h5\n",
      "\u001b[1m250/250\u001b[0m \u001b[32m━━━━━━━━━━━━━━━━━━━━\u001b[0m\u001b[37m\u001b[0m \u001b[1m0s\u001b[0m 2ms/step - AUC: 0.8101 - loss: 1.2081 - val_AUC: 0.9121 - val_loss: 0.9585\n",
      "Epoch 6/64\n",
      "\u001b[1m220/250\u001b[0m \u001b[32m━━━━━━━━━━━━━━━━━\u001b[0m\u001b[37m━━━\u001b[0m \u001b[1m0s\u001b[0m 2ms/step - AUC: 0.8175 - loss: 1.1877\n",
      "Epoch 6: val_loss did not improve from 0.95854\n",
      "\u001b[1m250/250\u001b[0m \u001b[32m━━━━━━━━━━━━━━━━━━━━\u001b[0m\u001b[37m\u001b[0m \u001b[1m1s\u001b[0m 2ms/step - AUC: 0.8165 - loss: 1.1912 - val_AUC: 0.8830 - val_loss: 1.0306\n",
      "Epoch 7/64\n",
      "\u001b[1m241/250\u001b[0m \u001b[32m━━━━━━━━━━━━━━━━━━━\u001b[0m\u001b[37m━\u001b[0m \u001b[1m0s\u001b[0m 1ms/step - AUC: 0.8038 - loss: 1.2383\n",
      "Epoch 7: val_loss improved from 0.95854 to 0.90036, saving model to best_model.weights.h5\n",
      "\u001b[1m250/250\u001b[0m \u001b[32m━━━━━━━━━━━━━━━━━━━━\u001b[0m\u001b[37m\u001b[0m \u001b[1m0s\u001b[0m 2ms/step - AUC: 0.8040 - loss: 1.2376 - val_AUC: 0.9164 - val_loss: 0.9004\n",
      "Epoch 8/64\n",
      "\u001b[1m246/250\u001b[0m \u001b[32m━━━━━━━━━━━━━━━━━━━\u001b[0m\u001b[37m━\u001b[0m \u001b[1m0s\u001b[0m 1ms/step - AUC: 0.8188 - loss: 1.1853\n",
      "Epoch 8: val_loss did not improve from 0.90036\n",
      "\u001b[1m250/250\u001b[0m \u001b[32m━━━━━━━━━━━━━━━━━━━━\u001b[0m\u001b[37m\u001b[0m \u001b[1m0s\u001b[0m 2ms/step - AUC: 0.8187 - loss: 1.1856 - val_AUC: 0.8914 - val_loss: 1.0327\n",
      "Epoch 9/64\n",
      "\u001b[1m244/250\u001b[0m \u001b[32m━━━━━━━━━━━━━━━━━━━\u001b[0m\u001b[37m━\u001b[0m \u001b[1m0s\u001b[0m 1ms/step - AUC: 0.8134 - loss: 1.2127\n",
      "Epoch 9: val_loss improved from 0.90036 to 0.86796, saving model to best_model.weights.h5\n",
      "\u001b[1m250/250\u001b[0m \u001b[32m━━━━━━━━━━━━━━━━━━━━\u001b[0m\u001b[37m\u001b[0m \u001b[1m0s\u001b[0m 2ms/step - AUC: 0.8134 - loss: 1.2127 - val_AUC: 0.9190 - val_loss: 0.8680\n",
      "Epoch 10/64\n",
      "\u001b[1m235/250\u001b[0m \u001b[32m━━━━━━━━━━━━━━━━━━\u001b[0m\u001b[37m━━\u001b[0m \u001b[1m0s\u001b[0m 1ms/step - AUC: 0.8115 - loss: 1.2227\n",
      "Epoch 10: val_loss did not improve from 0.86796\n",
      "\u001b[1m250/250\u001b[0m \u001b[32m━━━━━━━━━━━━━━━━━━━━\u001b[0m\u001b[37m\u001b[0m \u001b[1m0s\u001b[0m 2ms/step - AUC: 0.8115 - loss: 1.2224 - val_AUC: 0.9067 - val_loss: 0.9271\n",
      "Epoch 11/64\n",
      "\u001b[1m241/250\u001b[0m \u001b[32m━━━━━━━━━━━━━━━━━━━\u001b[0m\u001b[37m━\u001b[0m \u001b[1m0s\u001b[0m 1ms/step - AUC: 0.8170 - loss: 1.2133\n",
      "Epoch 11: val_loss did not improve from 0.86796\n",
      "\u001b[1m250/250\u001b[0m \u001b[32m━━━━━━━━━━━━━━━━━━━━\u001b[0m\u001b[37m\u001b[0m \u001b[1m0s\u001b[0m 2ms/step - AUC: 0.8169 - loss: 1.2138 - val_AUC: 0.8917 - val_loss: 0.9651\n",
      "Epoch 12/64\n",
      "\u001b[1m240/250\u001b[0m \u001b[32m━━━━━━━━━━━━━━━━━━━\u001b[0m\u001b[37m━\u001b[0m \u001b[1m0s\u001b[0m 2ms/step - AUC: 0.8107 - loss: 1.2190\n",
      "Epoch 12: val_loss improved from 0.86796 to 0.81571, saving model to best_model.weights.h5\n",
      "\u001b[1m250/250\u001b[0m \u001b[32m━━━━━━━━━━━━━━━━━━━━\u001b[0m\u001b[37m\u001b[0m \u001b[1m1s\u001b[0m 2ms/step - AUC: 0.8107 - loss: 1.2191 - val_AUC: 0.9289 - val_loss: 0.8157\n",
      "Epoch 13/64\n",
      "\u001b[1m227/250\u001b[0m \u001b[32m━━━━━━━━━━━━━━━━━━\u001b[0m\u001b[37m━━\u001b[0m \u001b[1m0s\u001b[0m 1ms/step - AUC: 0.8173 - loss: 1.2064\n",
      "Epoch 13: val_loss did not improve from 0.81571\n",
      "\u001b[1m250/250\u001b[0m \u001b[32m━━━━━━━━━━━━━━━━━━━━\u001b[0m\u001b[37m\u001b[0m \u001b[1m0s\u001b[0m 2ms/step - AUC: 0.8160 - loss: 1.2105 - val_AUC: 0.8756 - val_loss: 1.0403\n",
      "Epoch 14/64\n",
      "\u001b[1m239/250\u001b[0m \u001b[32m━━━━━━━━━━━━━━━━━━━\u001b[0m\u001b[37m━\u001b[0m \u001b[1m0s\u001b[0m 1ms/step - AUC: 0.8053 - loss: 1.2382\n",
      "Epoch 14: val_loss did not improve from 0.81571\n",
      "\u001b[1m250/250\u001b[0m \u001b[32m━━━━━━━━━━━━━━━━━━━━\u001b[0m\u001b[37m\u001b[0m \u001b[1m0s\u001b[0m 2ms/step - AUC: 0.8047 - loss: 1.2402 - val_AUC: 0.8155 - val_loss: 1.2254\n",
      "Epoch 15/64\n",
      "\u001b[1m243/250\u001b[0m \u001b[32m━━━━━━━━━━━━━━━━━━━\u001b[0m\u001b[37m━\u001b[0m \u001b[1m0s\u001b[0m 1ms/step - AUC: 0.7771 - loss: 1.2983\n",
      "Epoch 15: val_loss did not improve from 0.81571\n",
      "\u001b[1m250/250\u001b[0m \u001b[32m━━━━━━━━━━━━━━━━━━━━\u001b[0m\u001b[37m\u001b[0m \u001b[1m0s\u001b[0m 2ms/step - AUC: 0.7770 - loss: 1.2986 - val_AUC: 0.8986 - val_loss: 0.9877\n",
      "Epoch 16/64\n",
      "\u001b[1m231/250\u001b[0m \u001b[32m━━━━━━━━━━━━━━━━━━\u001b[0m\u001b[37m━━\u001b[0m \u001b[1m0s\u001b[0m 1ms/step - AUC: 0.7927 - loss: 1.2633\n",
      "Epoch 16: val_loss did not improve from 0.81571\n",
      "\u001b[1m250/250\u001b[0m \u001b[32m━━━━━━━━━━━━━━━━━━━━\u001b[0m\u001b[37m\u001b[0m \u001b[1m0s\u001b[0m 2ms/step - AUC: 0.7928 - loss: 1.2636 - val_AUC: 0.8782 - val_loss: 1.0385\n",
      "Epoch 17/64\n",
      "\u001b[1m245/250\u001b[0m \u001b[32m━━━━━━━━━━━━━━━━━━━\u001b[0m\u001b[37m━\u001b[0m \u001b[1m0s\u001b[0m 1ms/step - AUC: 0.7919 - loss: 1.2799\n",
      "Epoch 17: val_loss did not improve from 0.81571\n",
      "\u001b[1m250/250\u001b[0m \u001b[32m━━━━━━━━━━━━━━━━━━━━\u001b[0m\u001b[37m\u001b[0m \u001b[1m0s\u001b[0m 2ms/step - AUC: 0.7916 - loss: 1.2805 - val_AUC: 0.9139 - val_loss: 0.9214\n",
      "Epoch 18/64\n",
      "\u001b[1m241/250\u001b[0m \u001b[32m━━━━━━━━━━━━━━━━━━━\u001b[0m\u001b[37m━\u001b[0m \u001b[1m0s\u001b[0m 1ms/step - AUC: 0.7959 - loss: 1.2733\n",
      "Epoch 18: val_loss did not improve from 0.81571\n",
      "\u001b[1m250/250\u001b[0m \u001b[32m━━━━━━━━━━━━━━━━━━━━\u001b[0m\u001b[37m\u001b[0m \u001b[1m0s\u001b[0m 2ms/step - AUC: 0.7955 - loss: 1.2742 - val_AUC: 0.8783 - val_loss: 1.0345\n",
      "Epoch 19/64\n",
      "\u001b[1m241/250\u001b[0m \u001b[32m━━━━━━━━━━━━━━━━━━━\u001b[0m\u001b[37m━\u001b[0m \u001b[1m0s\u001b[0m 1ms/step - AUC: 0.7904 - loss: 1.2623\n",
      "Epoch 19: val_loss did not improve from 0.81571\n",
      "\u001b[1m250/250\u001b[0m \u001b[32m━━━━━━━━━━━━━━━━━━━━\u001b[0m\u001b[37m\u001b[0m \u001b[1m0s\u001b[0m 2ms/step - AUC: 0.7901 - loss: 1.2631 - val_AUC: 0.8920 - val_loss: 1.0209\n",
      "Epoch 20/64\n",
      "\u001b[1m243/250\u001b[0m \u001b[32m━━━━━━━━━━━━━━━━━━━\u001b[0m\u001b[37m━\u001b[0m \u001b[1m0s\u001b[0m 1ms/step - AUC: 0.7755 - loss: 1.3184\n",
      "Epoch 20: val_loss did not improve from 0.81571\n",
      "\u001b[1m250/250\u001b[0m \u001b[32m━━━━━━━━━━━━━━━━━━━━\u001b[0m\u001b[37m\u001b[0m \u001b[1m0s\u001b[0m 2ms/step - AUC: 0.7753 - loss: 1.3188 - val_AUC: 0.8218 - val_loss: 1.2090\n",
      "Epoch 21/64\n",
      "\u001b[1m223/250\u001b[0m \u001b[32m━━━━━━━━━━━━━━━━━\u001b[0m\u001b[37m━━━\u001b[0m \u001b[1m0s\u001b[0m 2ms/step - AUC: 0.7584 - loss: 1.3373\n",
      "Epoch 21: val_loss did not improve from 0.81571\n",
      "\u001b[1m250/250\u001b[0m \u001b[32m━━━━━━━━━━━━━━━━━━━━\u001b[0m\u001b[37m\u001b[0m \u001b[1m1s\u001b[0m 2ms/step - AUC: 0.7592 - loss: 1.3351 - val_AUC: 0.8811 - val_loss: 0.9946\n",
      "Epoch 22/64\n",
      "\u001b[1m240/250\u001b[0m \u001b[32m━━━━━━━━━━━━━━━━━━━\u001b[0m\u001b[37m━\u001b[0m \u001b[1m0s\u001b[0m 1ms/step - AUC: 0.7713 - loss: 1.3286\n",
      "Epoch 22: val_loss did not improve from 0.81571\n",
      "\u001b[1m250/250\u001b[0m \u001b[32m━━━━━━━━━━━━━━━━━━━━\u001b[0m\u001b[37m\u001b[0m \u001b[1m0s\u001b[0m 2ms/step - AUC: 0.7710 - loss: 1.3288 - val_AUC: 0.8807 - val_loss: 1.0445\n",
      "Epoch 23/64\n",
      "\u001b[1m223/250\u001b[0m \u001b[32m━━━━━━━━━━━━━━━━━\u001b[0m\u001b[37m━━━\u001b[0m \u001b[1m0s\u001b[0m 1ms/step - AUC: 0.7697 - loss: 1.3182\n",
      "Epoch 23: val_loss did not improve from 0.81571\n",
      "\u001b[1m250/250\u001b[0m \u001b[32m━━━━━━━━━━━━━━━━━━━━\u001b[0m\u001b[37m\u001b[0m \u001b[1m0s\u001b[0m 2ms/step - AUC: 0.7703 - loss: 1.3165 - val_AUC: 0.8847 - val_loss: 1.0696\n",
      "Epoch 24/64\n",
      "\u001b[1m226/250\u001b[0m \u001b[32m━━━━━━━━━━━━━━━━━━\u001b[0m\u001b[37m━━\u001b[0m \u001b[1m0s\u001b[0m 1ms/step - AUC: 0.7448 - loss: 1.3845\n",
      "Epoch 24: val_loss did not improve from 0.81571\n",
      "\u001b[1m250/250\u001b[0m \u001b[32m━━━━━━━━━━━━━━━━━━━━\u001b[0m\u001b[37m\u001b[0m \u001b[1m0s\u001b[0m 2ms/step - AUC: 0.7437 - loss: 1.3870 - val_AUC: 0.8795 - val_loss: 1.0739\n",
      "Epoch 25/64\n",
      "\u001b[1m242/250\u001b[0m \u001b[32m━━━━━━━━━━━━━━━━━━━\u001b[0m\u001b[37m━\u001b[0m \u001b[1m0s\u001b[0m 1ms/step - AUC: 0.7492 - loss: 1.3995\n",
      "Epoch 25: val_loss did not improve from 0.81571\n",
      "\u001b[1m250/250\u001b[0m \u001b[32m━━━━━━━━━━━━━━━━━━━━\u001b[0m\u001b[37m\u001b[0m \u001b[1m0s\u001b[0m 2ms/step - AUC: 0.7494 - loss: 1.3989 - val_AUC: 0.8843 - val_loss: 1.0089\n",
      "Epoch 26/64\n",
      "\u001b[1m241/250\u001b[0m \u001b[32m━━━━━━━━━━━━━━━━━━━\u001b[0m\u001b[37m━\u001b[0m \u001b[1m0s\u001b[0m 1ms/step - AUC: 0.7723 - loss: 1.3144\n",
      "Epoch 26: val_loss did not improve from 0.81571\n",
      "\u001b[1m250/250\u001b[0m \u001b[32m━━━━━━━━━━━━━━━━━━━━\u001b[0m\u001b[37m\u001b[0m \u001b[1m0s\u001b[0m 2ms/step - AUC: 0.7722 - loss: 1.3148 - val_AUC: 0.9120 - val_loss: 0.9622\n",
      "Epoch 27/64\n",
      "\u001b[1m231/250\u001b[0m \u001b[32m━━━━━━━━━━━━━━━━━━\u001b[0m\u001b[37m━━\u001b[0m \u001b[1m0s\u001b[0m 1ms/step - AUC: 0.7636 - loss: 1.3478\n",
      "Epoch 27: val_loss did not improve from 0.81571\n",
      "\u001b[1m250/250\u001b[0m \u001b[32m━━━━━━━━━━━━━━━━━━━━\u001b[0m\u001b[37m\u001b[0m \u001b[1m0s\u001b[0m 2ms/step - AUC: 0.7620 - loss: 1.3507 - val_AUC: 0.5506 - val_loss: 1.6764\n",
      "Epoch 28/64\n",
      "\u001b[1m238/250\u001b[0m \u001b[32m━━━━━━━━━━━━━━━━━━━\u001b[0m\u001b[37m━\u001b[0m \u001b[1m0s\u001b[0m 1ms/step - AUC: 0.7303 - loss: 1.4303\n",
      "Epoch 28: val_loss did not improve from 0.81571\n",
      "\u001b[1m250/250\u001b[0m \u001b[32m━━━━━━━━━━━━━━━━━━━━\u001b[0m\u001b[37m\u001b[0m \u001b[1m0s\u001b[0m 2ms/step - AUC: 0.7307 - loss: 1.4285 - val_AUC: 0.7936 - val_loss: 1.2220\n",
      "Epoch 29/64\n",
      "\u001b[1m238/250\u001b[0m \u001b[32m━━━━━━━━━━━━━━━━━━━\u001b[0m\u001b[37m━\u001b[0m \u001b[1m0s\u001b[0m 2ms/step - AUC: 0.7246 - loss: 1.3934\n",
      "Epoch 29: val_loss did not improve from 0.81571\n",
      "\u001b[1m250/250\u001b[0m \u001b[32m━━━━━━━━━━━━━━━━━━━━\u001b[0m\u001b[37m\u001b[0m \u001b[1m1s\u001b[0m 2ms/step - AUC: 0.7254 - loss: 1.3927 - val_AUC: 0.7849 - val_loss: 1.3075\n",
      "Epoch 30/64\n",
      "\u001b[1m226/250\u001b[0m \u001b[32m━━━━━━━━━━━━━━━━━━\u001b[0m\u001b[37m━━\u001b[0m \u001b[1m0s\u001b[0m 1ms/step - AUC: 0.7383 - loss: 1.3863\n",
      "Epoch 30: val_loss did not improve from 0.81571\n",
      "\u001b[1m250/250\u001b[0m \u001b[32m━━━━━━━━━━━━━━━━━━━━\u001b[0m\u001b[37m\u001b[0m \u001b[1m0s\u001b[0m 2ms/step - AUC: 0.7402 - loss: 1.3820 - val_AUC: 0.8824 - val_loss: 1.0839\n",
      "Epoch 31/64\n",
      "\u001b[1m242/250\u001b[0m \u001b[32m━━━━━━━━━━━━━━━━━━━\u001b[0m\u001b[37m━\u001b[0m \u001b[1m0s\u001b[0m 1ms/step - AUC: 0.7649 - loss: 1.3453\n",
      "Epoch 31: val_loss did not improve from 0.81571\n",
      "\u001b[1m250/250\u001b[0m \u001b[32m━━━━━━━━━━━━━━━━━━━━\u001b[0m\u001b[37m\u001b[0m \u001b[1m0s\u001b[0m 2ms/step - AUC: 0.7652 - loss: 1.3447 - val_AUC: 0.8849 - val_loss: 1.0022\n",
      "Epoch 32/64\n",
      "\u001b[1m226/250\u001b[0m \u001b[32m━━━━━━━━━━━━━━━━━━\u001b[0m\u001b[37m━━\u001b[0m \u001b[1m0s\u001b[0m 1ms/step - AUC: 0.7756 - loss: 1.3072\n",
      "Epoch 32: val_loss did not improve from 0.81571\n",
      "\u001b[1m250/250\u001b[0m \u001b[32m━━━━━━━━━━━━━━━━━━━━\u001b[0m\u001b[37m\u001b[0m \u001b[1m0s\u001b[0m 2ms/step - AUC: 0.7746 - loss: 1.3099 - val_AUC: 0.8566 - val_loss: 1.0853\n",
      "Epoch 33/64\n",
      "\u001b[1m228/250\u001b[0m \u001b[32m━━━━━━━━━━━━━━━━━━\u001b[0m\u001b[37m━━\u001b[0m \u001b[1m0s\u001b[0m 1ms/step - AUC: 0.7655 - loss: 1.3194\n",
      "Epoch 33: val_loss did not improve from 0.81571\n",
      "\u001b[1m250/250\u001b[0m \u001b[32m━━━━━━━━━━━━━━━━━━━━\u001b[0m\u001b[37m\u001b[0m \u001b[1m0s\u001b[0m 2ms/step - AUC: 0.7650 - loss: 1.3208 - val_AUC: 0.8206 - val_loss: 1.1929\n",
      "Epoch 34/64\n",
      "\u001b[1m241/250\u001b[0m \u001b[32m━━━━━━━━━━━━━━━━━━━\u001b[0m\u001b[37m━\u001b[0m \u001b[1m0s\u001b[0m 1ms/step - AUC: 0.7341 - loss: 1.4331\n",
      "Epoch 34: val_loss did not improve from 0.81571\n",
      "\u001b[1m250/250\u001b[0m \u001b[32m━━━━━━━━━━━━━━━━━━━━\u001b[0m\u001b[37m\u001b[0m \u001b[1m0s\u001b[0m 2ms/step - AUC: 0.7340 - loss: 1.4351 - val_AUC: 0.8215 - val_loss: 1.2280\n",
      "Epoch 35/64\n",
      "\u001b[1m243/250\u001b[0m \u001b[32m━━━━━━━━━━━━━━━━━━━\u001b[0m\u001b[37m━\u001b[0m \u001b[1m0s\u001b[0m 1ms/step - AUC: 0.7187 - loss: 1.4167\n",
      "Epoch 35: val_loss did not improve from 0.81571\n",
      "\u001b[1m250/250\u001b[0m \u001b[32m━━━━━━━━━━━━━━━━━━━━\u001b[0m\u001b[37m\u001b[0m \u001b[1m0s\u001b[0m 2ms/step - AUC: 0.7188 - loss: 1.4167 - val_AUC: 0.8422 - val_loss: 1.1904\n",
      "Epoch 36/64\n",
      "\u001b[1m242/250\u001b[0m \u001b[32m━━━━━━━━━━━━━━━━━━━\u001b[0m\u001b[37m━\u001b[0m \u001b[1m0s\u001b[0m 1ms/step - AUC: 0.7291 - loss: 1.4092\n",
      "Epoch 36: val_loss did not improve from 0.81571\n",
      "\u001b[1m250/250\u001b[0m \u001b[32m━━━━━━━━━━━━━━━━━━━━\u001b[0m\u001b[37m\u001b[0m \u001b[1m1s\u001b[0m 2ms/step - AUC: 0.7291 - loss: 1.4087 - val_AUC: 0.8869 - val_loss: 0.9862\n",
      "Epoch 37/64\n",
      "\u001b[1m240/250\u001b[0m \u001b[32m━━━━━━━━━━━━━━━━━━━\u001b[0m\u001b[37m━\u001b[0m \u001b[1m0s\u001b[0m 1ms/step - AUC: 0.7407 - loss: 1.3744\n",
      "Epoch 37: val_loss did not improve from 0.81571\n",
      "\u001b[1m250/250\u001b[0m \u001b[32m━━━━━━━━━━━━━━━━━━━━\u001b[0m\u001b[37m\u001b[0m \u001b[1m0s\u001b[0m 2ms/step - AUC: 0.7400 - loss: 1.3760 - val_AUC: 0.7776 - val_loss: 1.3420\n",
      "Epoch 38/64\n",
      "\u001b[1m240/250\u001b[0m \u001b[32m━━━━━━━━━━━━━━━━━━━\u001b[0m\u001b[37m━\u001b[0m \u001b[1m0s\u001b[0m 1ms/step - AUC: 0.7148 - loss: 1.4347\n",
      "Epoch 38: val_loss did not improve from 0.81571\n",
      "\u001b[1m250/250\u001b[0m \u001b[32m━━━━━━━━━━━━━━━━━━━━\u001b[0m\u001b[37m\u001b[0m \u001b[1m0s\u001b[0m 2ms/step - AUC: 0.7157 - loss: 1.4328 - val_AUC: 0.8956 - val_loss: 0.9619\n",
      "Epoch 39/64\n",
      "\u001b[1m241/250\u001b[0m \u001b[32m━━━━━━━━━━━━━━━━━━━\u001b[0m\u001b[37m━\u001b[0m \u001b[1m0s\u001b[0m 1ms/step - AUC: 0.7414 - loss: 1.3777\n",
      "Epoch 39: val_loss did not improve from 0.81571\n",
      "\u001b[1m250/250\u001b[0m \u001b[32m━━━━━━━━━━━━━━━━━━━━\u001b[0m\u001b[37m\u001b[0m \u001b[1m0s\u001b[0m 2ms/step - AUC: 0.7417 - loss: 1.3774 - val_AUC: 0.8649 - val_loss: 1.1460\n",
      "Epoch 40/64\n",
      "\u001b[1m236/250\u001b[0m \u001b[32m━━━━━━━━━━━━━━━━━━\u001b[0m\u001b[37m━━\u001b[0m \u001b[1m0s\u001b[0m 1ms/step - AUC: 0.7532 - loss: 1.3468\n",
      "Epoch 40: val_loss did not improve from 0.81571\n",
      "\u001b[1m250/250\u001b[0m \u001b[32m━━━━━━━━━━━━━━━━━━━━\u001b[0m\u001b[37m\u001b[0m \u001b[1m0s\u001b[0m 2ms/step - AUC: 0.7532 - loss: 1.3476 - val_AUC: 0.8669 - val_loss: 1.0349\n",
      "Epoch 41/64\n",
      "\u001b[1m233/250\u001b[0m \u001b[32m━━━━━━━━━━━━━━━━━━\u001b[0m\u001b[37m━━\u001b[0m \u001b[1m0s\u001b[0m 1ms/step - AUC: 0.7361 - loss: 1.3890\n",
      "Epoch 41: val_loss did not improve from 0.81571\n",
      "\u001b[1m250/250\u001b[0m \u001b[32m━━━━━━━━━━━━━━━━━━━━\u001b[0m\u001b[37m\u001b[0m \u001b[1m0s\u001b[0m 2ms/step - AUC: 0.7375 - loss: 1.3868 - val_AUC: 0.7760 - val_loss: 1.3079\n",
      "Epoch 42/64\n",
      "\u001b[1m238/250\u001b[0m \u001b[32m━━━━━━━━━━━━━━━━━━━\u001b[0m\u001b[37m━\u001b[0m \u001b[1m0s\u001b[0m 1ms/step - AUC: 0.7430 - loss: 1.3822\n",
      "Epoch 42: val_loss did not improve from 0.81571\n",
      "\u001b[1m250/250\u001b[0m \u001b[32m━━━━━━━━━━━━━━━━━━━━\u001b[0m\u001b[37m\u001b[0m \u001b[1m0s\u001b[0m 2ms/step - AUC: 0.7435 - loss: 1.3808 - val_AUC: 0.8273 - val_loss: 1.2005\n",
      "Epoch 43/64\n",
      "\u001b[1m230/250\u001b[0m \u001b[32m━━━━━━━━━━━━━━━━━━\u001b[0m\u001b[37m━━\u001b[0m \u001b[1m0s\u001b[0m 1ms/step - AUC: 0.7243 - loss: 1.4177\n",
      "Epoch 43: val_loss did not improve from 0.81571\n",
      "\u001b[1m250/250\u001b[0m \u001b[32m━━━━━━━━━━━━━━━━━━━━\u001b[0m\u001b[37m\u001b[0m \u001b[1m0s\u001b[0m 2ms/step - AUC: 0.7233 - loss: 1.4198 - val_AUC: 0.8478 - val_loss: 1.1696\n",
      "Epoch 44/64\n",
      "\u001b[1m239/250\u001b[0m \u001b[32m━━━━━━━━━━━━━━━━━━━\u001b[0m\u001b[37m━\u001b[0m \u001b[1m0s\u001b[0m 2ms/step - AUC: 0.7214 - loss: 1.4092\n",
      "Epoch 44: val_loss did not improve from 0.81571\n",
      "\u001b[1m250/250\u001b[0m \u001b[32m━━━━━━━━━━━━━━━━━━━━\u001b[0m\u001b[37m\u001b[0m \u001b[1m1s\u001b[0m 2ms/step - AUC: 0.7223 - loss: 1.4089 - val_AUC: 0.8561 - val_loss: 1.0854\n",
      "Epoch 45/64\n",
      "\u001b[1m245/250\u001b[0m \u001b[32m━━━━━━━━━━━━━━━━━━━\u001b[0m\u001b[37m━\u001b[0m \u001b[1m0s\u001b[0m 1ms/step - AUC: 0.7448 - loss: 1.3611\n",
      "Epoch 45: val_loss did not improve from 0.81571\n",
      "\u001b[1m250/250\u001b[0m \u001b[32m━━━━━━━━━━━━━━━━━━━━\u001b[0m\u001b[37m\u001b[0m \u001b[1m1s\u001b[0m 2ms/step - AUC: 0.7448 - loss: 1.3610 - val_AUC: 0.8627 - val_loss: 1.1150\n",
      "Epoch 46/64\n",
      "\u001b[1m230/250\u001b[0m \u001b[32m━━━━━━━━━━━━━━━━━━\u001b[0m\u001b[37m━━\u001b[0m \u001b[1m0s\u001b[0m 1ms/step - AUC: 0.7371 - loss: 1.4372\n",
      "Epoch 46: val_loss did not improve from 0.81571\n",
      "\u001b[1m250/250\u001b[0m \u001b[32m━━━━━━━━━━━━━━━━━━━━\u001b[0m\u001b[37m\u001b[0m \u001b[1m0s\u001b[0m 2ms/step - AUC: 0.7376 - loss: 1.4341 - val_AUC: 0.8572 - val_loss: 1.0940\n",
      "Epoch 47/64\n",
      "\u001b[1m244/250\u001b[0m \u001b[32m━━━━━━━━━━━━━━━━━━━\u001b[0m\u001b[37m━\u001b[0m \u001b[1m0s\u001b[0m 1ms/step - AUC: 0.7440 - loss: 1.3624\n",
      "Epoch 47: val_loss did not improve from 0.81571\n",
      "\u001b[1m250/250\u001b[0m \u001b[32m━━━━━━━━━━━━━━━━━━━━\u001b[0m\u001b[37m\u001b[0m \u001b[1m1s\u001b[0m 2ms/step - AUC: 0.7434 - loss: 1.3640 - val_AUC: 0.6388 - val_loss: 1.5484\n",
      "Epoch 48/64\n",
      "\u001b[1m239/250\u001b[0m \u001b[32m━━━━━━━━━━━━━━━━━━━\u001b[0m\u001b[37m━\u001b[0m \u001b[1m0s\u001b[0m 1ms/step - AUC: 0.6897 - loss: 1.4597\n",
      "Epoch 48: val_loss did not improve from 0.81571\n",
      "\u001b[1m250/250\u001b[0m \u001b[32m━━━━━━━━━━━━━━━━━━━━\u001b[0m\u001b[37m\u001b[0m \u001b[1m0s\u001b[0m 2ms/step - AUC: 0.6908 - loss: 1.4578 - val_AUC: 0.8798 - val_loss: 1.0273\n",
      "Epoch 49/64\n",
      "\u001b[1m237/250\u001b[0m \u001b[32m━━━━━━━━━━━━━━━━━━\u001b[0m\u001b[37m━━\u001b[0m \u001b[1m0s\u001b[0m 1ms/step - AUC: 0.7328 - loss: 1.3908\n",
      "Epoch 49: val_loss did not improve from 0.81571\n",
      "\u001b[1m250/250\u001b[0m \u001b[32m━━━━━━━━━━━━━━━━━━━━\u001b[0m\u001b[37m\u001b[0m \u001b[1m1s\u001b[0m 2ms/step - AUC: 0.7328 - loss: 1.3905 - val_AUC: 0.8900 - val_loss: 1.0190\n",
      "Epoch 50/64\n",
      "\u001b[1m221/250\u001b[0m \u001b[32m━━━━━━━━━━━━━━━━━\u001b[0m\u001b[37m━━━\u001b[0m \u001b[1m0s\u001b[0m 2ms/step - AUC: 0.7467 - loss: 1.3759\n",
      "Epoch 50: val_loss did not improve from 0.81571\n",
      "\u001b[1m250/250\u001b[0m \u001b[32m━━━━━━━━━━━━━━━━━━━━\u001b[0m\u001b[37m\u001b[0m \u001b[1m1s\u001b[0m 2ms/step - AUC: 0.7427 - loss: 1.3842 - val_AUC: 0.5020 - val_loss: 1.6551\n",
      "Epoch 51/64\n",
      "\u001b[1m235/250\u001b[0m \u001b[32m━━━━━━━━━━━━━━━━━━\u001b[0m\u001b[37m━━\u001b[0m \u001b[1m0s\u001b[0m 1ms/step - AUC: 0.6084 - loss: 1.5750\n",
      "Epoch 51: val_loss did not improve from 0.81571\n",
      "\u001b[1m250/250\u001b[0m \u001b[32m━━━━━━━━━━━━━━━━━━━━\u001b[0m\u001b[37m\u001b[0m \u001b[1m0s\u001b[0m 2ms/step - AUC: 0.6084 - loss: 1.5744 - val_AUC: 0.5000 - val_loss: 1.6726\n",
      "Epoch 52/64\n",
      "\u001b[1m235/250\u001b[0m \u001b[32m━━━━━━━━━━━━━━━━━━\u001b[0m\u001b[37m━━\u001b[0m \u001b[1m0s\u001b[0m 1ms/step - AUC: 0.6220 - loss: 1.5468\n",
      "Epoch 52: val_loss did not improve from 0.81571\n",
      "\u001b[1m250/250\u001b[0m \u001b[32m━━━━━━━━━━━━━━━━━━━━\u001b[0m\u001b[37m\u001b[0m \u001b[1m0s\u001b[0m 2ms/step - AUC: 0.6227 - loss: 1.5461 - val_AUC: 0.5000 - val_loss: 1.6522\n",
      "Epoch 53/64\n",
      "\u001b[1m238/250\u001b[0m \u001b[32m━━━━━━━━━━━━━━━━━━━\u001b[0m\u001b[37m━\u001b[0m \u001b[1m0s\u001b[0m 1ms/step - AUC: 0.6544 - loss: 1.5131\n",
      "Epoch 53: val_loss did not improve from 0.81571\n",
      "\u001b[1m250/250\u001b[0m \u001b[32m━━━━━━━━━━━━━━━━━━━━\u001b[0m\u001b[37m\u001b[0m \u001b[1m0s\u001b[0m 2ms/step - AUC: 0.6545 - loss: 1.5135 - val_AUC: 0.6565 - val_loss: 1.4753\n",
      "Epoch 54/64\n",
      "\u001b[1m238/250\u001b[0m \u001b[32m━━━━━━━━━━━━━━━━━━━\u001b[0m\u001b[37m━\u001b[0m \u001b[1m0s\u001b[0m 1ms/step - AUC: 0.6479 - loss: 1.5411\n",
      "Epoch 54: val_loss did not improve from 0.81571\n",
      "\u001b[1m250/250\u001b[0m \u001b[32m━━━━━━━━━━━━━━━━━━━━\u001b[0m\u001b[37m\u001b[0m \u001b[1m0s\u001b[0m 2ms/step - AUC: 0.6481 - loss: 1.5401 - val_AUC: 0.6877 - val_loss: 1.4930\n",
      "Epoch 55/64\n",
      "\u001b[1m219/250\u001b[0m \u001b[32m━━━━━━━━━━━━━━━━━\u001b[0m\u001b[37m━━━\u001b[0m \u001b[1m0s\u001b[0m 2ms/step - AUC: 0.6422 - loss: 1.5161\n",
      "Epoch 55: val_loss did not improve from 0.81571\n",
      "\u001b[1m250/250\u001b[0m \u001b[32m━━━━━━━━━━━━━━━━━━━━\u001b[0m\u001b[37m\u001b[0m \u001b[1m1s\u001b[0m 2ms/step - AUC: 0.6438 - loss: 1.5148 - val_AUC: 0.5408 - val_loss: 1.6604\n",
      "Epoch 56/64\n",
      "\u001b[1m238/250\u001b[0m \u001b[32m━━━━━━━━━━━━━━━━━━━\u001b[0m\u001b[37m━\u001b[0m \u001b[1m0s\u001b[0m 1ms/step - AUC: 0.6409 - loss: 1.5482\n",
      "Epoch 56: val_loss did not improve from 0.81571\n",
      "\u001b[1m250/250\u001b[0m \u001b[32m━━━━━━━━━━━━━━━━━━━━\u001b[0m\u001b[37m\u001b[0m \u001b[1m0s\u001b[0m 2ms/step - AUC: 0.6406 - loss: 1.5479 - val_AUC: 0.5069 - val_loss: 1.6254\n",
      "Epoch 57/64\n",
      "\u001b[1m236/250\u001b[0m \u001b[32m━━━━━━━━━━━━━━━━━━\u001b[0m\u001b[37m━━\u001b[0m \u001b[1m0s\u001b[0m 1ms/step - AUC: 0.5960 - loss: 1.6068\n",
      "Epoch 57: val_loss did not improve from 0.81571\n",
      "\u001b[1m250/250\u001b[0m \u001b[32m━━━━━━━━━━━━━━━━━━━━\u001b[0m\u001b[37m\u001b[0m \u001b[1m0s\u001b[0m 2ms/step - AUC: 0.5965 - loss: 1.6071 - val_AUC: 0.5207 - val_loss: 1.6110\n",
      "Epoch 58/64\n",
      "\u001b[1m228/250\u001b[0m \u001b[32m━━━━━━━━━━━━━━━━━━\u001b[0m\u001b[37m━━\u001b[0m \u001b[1m0s\u001b[0m 1ms/step - AUC: 0.6238 - loss: 1.5446\n",
      "Epoch 58: val_loss did not improve from 0.81571\n",
      "\u001b[1m250/250\u001b[0m \u001b[32m━━━━━━━━━━━━━━━━━━━━\u001b[0m\u001b[37m\u001b[0m \u001b[1m0s\u001b[0m 2ms/step - AUC: 0.6241 - loss: 1.5444 - val_AUC: 0.6822 - val_loss: 1.4623\n",
      "Epoch 59/64\n",
      "\u001b[1m238/250\u001b[0m \u001b[32m━━━━━━━━━━━━━━━━━━━\u001b[0m\u001b[37m━\u001b[0m \u001b[1m0s\u001b[0m 1ms/step - AUC: 0.6527 - loss: 1.5081\n",
      "Epoch 59: val_loss did not improve from 0.81571\n",
      "\u001b[1m250/250\u001b[0m \u001b[32m━━━━━━━━━━━━━━━━━━━━\u001b[0m\u001b[37m\u001b[0m \u001b[1m0s\u001b[0m 2ms/step - AUC: 0.6526 - loss: 1.5084 - val_AUC: 0.7183 - val_loss: 1.4254\n",
      "Epoch 60/64\n",
      "\u001b[1m238/250\u001b[0m \u001b[32m━━━━━━━━━━━━━━━━━━━\u001b[0m\u001b[37m━\u001b[0m \u001b[1m0s\u001b[0m 1ms/step - AUC: 0.6475 - loss: 1.5186\n",
      "Epoch 60: val_loss did not improve from 0.81571\n",
      "\u001b[1m250/250\u001b[0m \u001b[32m━━━━━━━━━━━━━━━━━━━━\u001b[0m\u001b[37m\u001b[0m \u001b[1m0s\u001b[0m 2ms/step - AUC: 0.6481 - loss: 1.5180 - val_AUC: 0.6665 - val_loss: 1.4717\n",
      "Epoch 61/64\n",
      "\u001b[1m226/250\u001b[0m \u001b[32m━━━━━━━━━━━━━━━━━━\u001b[0m\u001b[37m━━\u001b[0m \u001b[1m0s\u001b[0m 1ms/step - AUC: 0.6672 - loss: 1.4957\n",
      "Epoch 61: val_loss did not improve from 0.81571\n",
      "\u001b[1m250/250\u001b[0m \u001b[32m━━━━━━━━━━━━━━━━━━━━\u001b[0m\u001b[37m\u001b[0m \u001b[1m0s\u001b[0m 2ms/step - AUC: 0.6678 - loss: 1.4961 - val_AUC: 0.7726 - val_loss: 1.2899\n",
      "Epoch 62/64\n",
      "\u001b[1m234/250\u001b[0m \u001b[32m━━━━━━━━━━━━━━━━━━\u001b[0m\u001b[37m━━\u001b[0m \u001b[1m0s\u001b[0m 2ms/step - AUC: 0.6832 - loss: 1.4597\n",
      "Epoch 62: val_loss did not improve from 0.81571\n",
      "\u001b[1m250/250\u001b[0m \u001b[32m━━━━━━━━━━━━━━━━━━━━\u001b[0m\u001b[37m\u001b[0m \u001b[1m1s\u001b[0m 2ms/step - AUC: 0.6835 - loss: 1.4594 - val_AUC: 0.5033 - val_loss: 1.6608\n",
      "Epoch 63/64\n",
      "\u001b[1m239/250\u001b[0m \u001b[32m━━━━━━━━━━━━━━━━━━━\u001b[0m\u001b[37m━\u001b[0m \u001b[1m0s\u001b[0m 1ms/step - AUC: 0.6240 - loss: 1.5412\n",
      "Epoch 63: val_loss did not improve from 0.81571\n",
      "\u001b[1m250/250\u001b[0m \u001b[32m━━━━━━━━━━━━━━━━━━━━\u001b[0m\u001b[37m\u001b[0m \u001b[1m0s\u001b[0m 2ms/step - AUC: 0.6244 - loss: 1.5409 - val_AUC: 0.6638 - val_loss: 1.4807\n",
      "Epoch 64/64\n",
      "\u001b[1m225/250\u001b[0m \u001b[32m━━━━━━━━━━━━━━━━━━\u001b[0m\u001b[37m━━\u001b[0m \u001b[1m0s\u001b[0m 1ms/step - AUC: 0.6877 - loss: 1.4594\n",
      "Epoch 64: val_loss did not improve from 0.81571\n",
      "\u001b[1m250/250\u001b[0m \u001b[32m━━━━━━━━━━━━━━━━━━━━\u001b[0m\u001b[37m\u001b[0m \u001b[1m0s\u001b[0m 2ms/step - AUC: 0.6881 - loss: 1.4590 - val_AUC: 0.7559 - val_loss: 1.3448\n"
     ]
    }
   ],
   "source": [
    "from tensorflow.keras.callbacks import ModelCheckpoint\n",
    "\n",
    "# Define the checkpoint callback\n",
    "checkpoint_callback = ModelCheckpoint(\n",
    "    filepath='best_model.weights.h5',\n",
    "    monitor='val_loss',\n",
    "    save_best_only=True,\n",
    "    save_weights_only=True,\n",
    "    mode='min',\n",
    "    verbose=1\n",
    ")\n",
    "\n",
    "# Compile the model\n",
    "model.compile(\n",
    "    optimizer=tf.keras.optimizers.SGD(learning_rate=0.1, momentum=0.9, decay=0.0, nesterov=True), # stochastic gradient descent, but can specify batch size.\n",
    "    loss='categorical_crossentropy',\n",
    "    metrics=['AUC'],\n",
    ")\n",
    "\n",
    "# Train the model with the checkpoint callback\n",
    "history = model.fit(\n",
    "    X_train, y_train, \n",
    "    validation_data=(X_val, y_val),\n",
    "    batch_size=BATCH_SIZE, \n",
    "    epochs=64,\n",
    "    callbacks=[checkpoint_callback]\n",
    ")"
   ]
  },
  {
   "cell_type": "code",
   "execution_count": null,
   "metadata": {},
   "outputs": [],
   "source": [
    "history.history.keys()"
   ]
  },
  {
   "cell_type": "code",
   "execution_count": 8,
   "metadata": {},
   "outputs": [
    {
     "data": {
      "image/png": "[encoded data removed]",
      "text/plain": [
       "<Figure size 640x480 with 1 Axes>"
      ]
     },
     "metadata": {},
     "output_type": "display_data"
    }
   ],
   "source": [
    "\n",
    "\n",
    "plt.figure()\n",
    "plt.plot(history.history['loss'], label='train error')\n",
    "plt.plot(history.history['val_loss'], label='validation error')\n",
    "plt.plot(history.history['AUC'], label='train auc')\n",
    "plt.plot(history.history['val_AUC'], label='validation auc')\n",
    "plt.title('FFNN Training and Validation Metrics')\n",
    "plt.xlabel('Epochs')\n",
    "plt.ylabel('Cross-Entropy')\n",
    "plt.legend()\n",
    "plt.show()"
   ]
  },
  {
   "cell_type": "markdown",
   "metadata": {},
   "source": [
    "### Evaluation"
   ]
  },
  {
   "cell_type": "code",
   "execution_count": 11,
   "metadata": {},
   "outputs": [
    {
     "name": "stdout",
     "output_type": "stream",
     "text": [
      "(5000, 121) (5000, 5)\n"
     ]
    }
   ],
   "source": [
    "\n",
    "gabriel_features = np.genfromtxt('../data/processed/test_combined_features.csv', skip_header=True, dtype=float, delimiter=',')\n",
    "y = tf.one_hot(indices=gabriel_features[:,0], depth=NUMBER_OF_CLASSES).numpy()\n",
    "X = gabriel_features[:,1:]\n",
    "\n",
    "X = X / X.max(axis=0) # alongside rows, per column\n",
    "\n",
    "print(X.shape, y.shape)\n",
    "number_of_features = X.shape[1]\n",
    "\n",
    "np.random.seed(42)"
   ]
  },
  {
   "cell_type": "code",
   "execution_count": 12,
   "metadata": {},
   "outputs": [
    {
     "name": "stdout",
     "output_type": "stream",
     "text": [
      "\u001b[1m157/157\u001b[0m \u001b[32m━━━━━━━━━━━━━━━━━━━━\u001b[0m\u001b[37m\u001b[0m \u001b[1m0s\u001b[0m 1ms/step - AUC: 0.9178 - loss: 0.8548\n"
     ]
    }
   ],
   "source": [
    "# load model from checkpoint best_model.weights.h5\n",
    "model.load_weights('best_model.weights.h5')\n",
    "# evaluate the model\n",
    "loss, auc = model.evaluate(X, y)"
   ]
  },
  {
   "cell_type": "code",
   "execution_count": null,
   "metadata": {},
   "outputs": [],
   "source": [
    "\n",
    "data = np.load('../data/raw/fashion_test.npy')\n",
    "X = data[:, :-1]\n",
    "y = data[:, -1]\n",
    "\n",
    "X = X / X.max(axis=0) # alongside rows, per column\n",
    "# fill nans with zeros\n",
    "X = np.nan_to_num(X)\n",
    "y = tf.one_hot(indices=y, depth=NUMBER_OF_CLASSES).numpy()\n",
    "\n",
    "\n",
    "results = model.evaluate(X, y, batch_size=32)\n",
    "\n",
    "print('test results:', results)"
   ]
  },
  {
   "cell_type": "code",
   "execution_count": 10,
   "metadata": {},
   "outputs": [],
   "source": [
    "model.save('../models/v0.01_reference_nn.keras')"
   ]
  },
  {
   "cell_type": "markdown",
   "metadata": {},
   "source": [
    "# CNN"
   ]
  },
  {
   "cell_type": "code",
   "execution_count": null,
   "metadata": {},
   "outputs": [],
   "source": [
    "from sklearn.model_selection import train_test_split\n",
    "data = np.load('../data/raw/fashion_train.npy')\n",
    "X = data[:, :-1]\n",
    "y = data[:, -1]\n",
    "\n",
    "X = X / X.max(axis=0) # alongside rows, per column\n",
    "y = tf.one_hot(indices=y, depth=NUMBER_OF_CLASSES).numpy()\n",
    "\n",
    "\n",
    "X_train, X_val, y_train, y_val = train_test_split(X, y, train_size=0.8, shuffle=True, random_state=42)\n",
    "unique_labels = np.unique(y)\n",
    "unique_labels"
   ]
  },
  {
   "cell_type": "code",
   "execution_count": null,
   "metadata": {},
   "outputs": [],
   "source": [
    "X.shape"
   ]
  },
  {
   "cell_type": "code",
   "execution_count": null,
   "metadata": {},
   "outputs": [],
   "source": [
    "\n",
    "# Define the neural network architecture\n",
    "model = tf.keras.Sequential(\n",
    "    [\n",
    "        tf.keras.layers.Reshape((28, 28, 1), input_shape=(784,)),\n",
    "        tf.keras.layers.Conv2D(\n",
    "            16, kernel_size=3, strides=1, padding=\"same\", activation=\"relu\"\n",
    "        ),\n",
    "        tf.keras.layers.MaxPooling2D(pool_size=2, strides=2),\n",
    "        tf.keras.layers.Conv2D(\n",
    "            32, kernel_size=3, strides=1, padding=\"same\", activation=\"relu\"\n",
    "        ),\n",
    "        tf.keras.layers.MaxPooling2D(pool_size=2, strides=2),\n",
    "        tf.keras.layers.Flatten(),\n",
    "        tf.keras.layers.Dense(128, activation=\"relu\"),\n",
    "        tf.keras.layers.Dense(5, activation=\"softmax\"),\n",
    "    ]\n",
    ")\n",
    "\n",
    "# Print model architecture\n",
    "model.summary()\n",
    "\n",
    "# Compile the model\n",
    "# model.compile(optimizer=\"adam\", loss=\"categorical_crossentropy\", metrics=[\"accuracy\"])\n",
    "model.compile(\n",
    "    optimizer=tf.keras.optimizers.SGD(learning_rate=0.1, momentum=0.9, nesterov=True), # stochastic gradient descent, but can specify batch size.\n",
    "    loss='categorical_crossentropy',\n",
    "    metrics=['AUC'],\n",
    ")\n",
    "\n",
    "\n",
    "# Train the model\n",
    "history = model.fit(\n",
    "    X_train,\n",
    "    y_train,\n",
    "    validation_data=(X_val, y_val),\n",
    "    epochs=7,\n",
    "    batch_size=32,\n",
    ")\n",
    "results = model.evaluate(X_val, y_val, batch_size=32)\n",
    "import matplotlib.pyplot as plt"
   ]
  },
  {
   "cell_type": "code",
   "execution_count": null,
   "metadata": {},
   "outputs": [],
   "source": [
    "\n",
    "plt.figure()\n",
    "plt.plot(history.history['loss'], label='train error')\n",
    "plt.plot(history.history['val_loss'], label='validation error')\n",
    "plt.plot(history.history['auc'], label='train auc')\n",
    "plt.plot(history.history['val_auc'], label='validation auc')\n",
    "plt.title('CNN Training and Validation Metrics')\n",
    "plt.xlabel('Epochs')\n",
    "plt.ylabel('Cross-Entropy')\n",
    "plt.legend()\n",
    "plt.show()"
   ]
  },
  {
   "cell_type": "markdown",
   "metadata": {},
   "source": [
    "## Evaluation of CNN on the test set."
   ]
  },
  {
   "cell_type": "code",
   "execution_count": null,
   "metadata": {},
   "outputs": [],
   "source": [
    "data = np.load('../data/raw/fashion_test.npy')\n",
    "X = data[:, :-1]\n",
    "y = data[:, -1]\n",
    "\n",
    "X = X / X.max(axis=0) # alongside rows, per column\n",
    "# fill nans with zeros\n",
    "X = np.nan_to_num(X)\n",
    "y = tf.one_hot(indices=y, depth=NUMBER_OF_CLASSES).numpy()\n",
    "\n",
    "\n",
    "results = model.evaluate(X, y, batch_size=32)\n",
    "\n",
    "print('test results:', results)"
   ]
  }
 ],
 "metadata": {
  "kernelspec": {
   "display_name": ".venv",
   "language": "python",
   "name": "python3"
  },
  "language_info": {
   "codemirror_mode": {
    "name": "ipython",
    "version": 3
   },
   "file_extension": ".py",
   "mimetype": "text/x-python",
   "name": "python",
   "nbconvert_exporter": "python",
   "pygments_lexer": "ipython3",
   "version": "3.12.7"
  }
 },
 "nbformat": 4,
 "nbformat_minor": 2
}
