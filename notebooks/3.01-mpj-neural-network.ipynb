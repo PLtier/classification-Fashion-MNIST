{
 "cells": [
  {
   "cell_type": "code",
   "execution_count": 6,
   "metadata": {},
   "outputs": [
    {
     "name": "stdout",
     "output_type": "stream",
     "text": [
      "labels do match? True\n",
      "(10000, 205) (10000, 5)\n"
     ]
    }
   ],
   "source": [
    "\n",
    "import numpy as np\n",
    "import tensorflow as tf\n",
    "\n",
    "NUMBER_OF_CLASSES=5\n",
    "template_features = np.genfromtxt('../data/interim/template_matching.csv', skip_header=True, dtype=float, delimiter=',')\n",
    "gabriel_features = np.genfromtxt('../data/processed/combined_features.csv', skip_header=True, dtype=float, delimiter=',')\n",
    "print('labels do match?', all(template_features[:, 0] == gabriel_features[:, 0]))\n",
    "y = tf.one_hot(indices=template_features[:,0], depth=NUMBER_OF_CLASSES).numpy()\n",
    "X = np.hstack((template_features[:,1:], gabriel_features[:,1:]))\n",
    "\n",
    "X = X / X.max(axis=0) # alongside rows, per column\n",
    "\n",
    "print(X.shape, y.shape)\n",
    "number_of_features = X.shape[1]\n",
    "\n",
    "np.random.seed(42)\n"
   ]
  },
  {
   "cell_type": "code",
   "execution_count": 7,
   "metadata": {},
   "outputs": [],
   "source": [
    "from sklearn.model_selection import train_test_split\n",
    "\n",
    "\n",
    "X_train, X_val, y_train, y_val = train_test_split(X, y, train_size=0.8, shuffle=True, random_state=42)"
   ]
  },
  {
   "cell_type": "code",
   "execution_count": 8,
   "metadata": {},
   "outputs": [],
   "source": [
    "\n",
    "\n",
    "def softmax(v: np.array):\n",
    "    v_max = np.max(v, axis=1)[:, np.newaxis]\n",
    "    exp = np.exp(v - v_max) \n",
    "    return exp / np.sum(exp, axis=1)[:, np.newaxis]\n",
    "\n",
    "\n",
    "def cross_entropy(y: np.array, a_o: np.array):\n",
    "    # numerical stability\n",
    "    epsilon = 1e-12\n",
    "    a_o = np.clip(a_o, epsilon, 1. - epsilon)\n",
    "    return -np.mean(np.sum(y * np.log(a_o), axis=1))\n",
    "\n",
    "def softmax_cross_entropy2deriv(y, output):\n",
    "    \"\"\"I'm comput dL/da * da/dz in one step in order to avoid tinkering with jacobi of softmax\"\"\"\n",
    "    return (output-y)/len(y)\n",
    " \n",
    "def relu(x):\n",
    "    return (x>0)*x\n",
    "def relu2deriv(output):\n",
    "    return output > 0\n",
    "\n"
   ]
  },
  {
   "cell_type": "code",
   "execution_count": 14,
   "metadata": {},
   "outputs": [],
   "source": [
    "hidden_size_1=128\n",
    "hidden_size_2=128\n",
    "hidden_size_3=128\n",
    "output_size=5\n",
    "alpha=0.1\n",
    "beta=0.1\n",
    "\n",
    "# using glorot and he initialization to omit symmetry problem\n",
    "lol = []\n",
    "weights_0_1 = np.random.randn(X.shape[1], hidden_size_1) * np.sqrt(2 / X.shape[1])\n",
    "weights_1_2 = np.random.randn(hidden_size_1, hidden_size_2) * np.sqrt(2 / hidden_size_1)\n",
    "weights_2_3 = np.random.randn(hidden_size_2, hidden_size_3) * np.sqrt(2 / hidden_size_2)\n",
    "weights_3_4 = np.random.randn(hidden_size_3, output_size) * np.sqrt(2 / (hidden_size_3+y.shape[1]))\n",
    "\n",
    "# just constants\n",
    "biases_1 = np.zeros((1, hidden_size_1))\n",
    "biases_2 = np.zeros((1, hidden_size_2))\n",
    "biases_3 = np.zeros((1, hidden_size_3))\n",
    "biases_4 = np.zeros((1, y.shape[1]))\n",
    "\n",
    "from matplotlib import pyplot as plt\n",
    "from sklearn.metrics import roc_auc_score\n",
    "\n",
    "weights_0_1_velocity, weights_1_2_velocity, weights_2_3_velocity, weights_3_4_velocity = (0, 0, 0, 0)\n",
    "biases_1_velocity, biases_2_velocity, biases_3_velocity, biases_4_velocity = (0, 0, 0, 0)\n",
    "# better naming - like velocity and gradient_after_velocity"
   ]
  },
  {
   "cell_type": "markdown",
   "metadata": {},
   "source": [
    "### hej"
   ]
  },
  {
   "cell_type": "code",
   "execution_count": 53,
   "metadata": {},
   "outputs": [
    {
     "data": {
      "image/png": "[encoded data removed]",
      "text/plain": [
       "<Figure size 640x480 with 1 Axes>"
      ]
     },
     "metadata": {},
     "output_type": "display_data"
    },
    {
     "data": {
      "text/plain": [
       "0.9722905106055538"
      ]
     },
     "execution_count": 53,
     "metadata": {},
     "output_type": "execute_result"
    }
   ],
   "source": [
    "for _ in range(1000):\n",
    "    idx = np.random.choice(X_train.shape[0], 32, replace=False)\n",
    "    labels=y_train[idx]\n",
    "    layers_0 = X_train[idx]\n",
    "    layers_1 = relu(layers_0 @ weights_0_1 + biases_1) \n",
    "    layers_2 = relu(layers_1 @ weights_1_2 + biases_2)\n",
    "    layers_3 = relu(layers_2 @ weights_2_3 + biases_3)\n",
    "    layers_4 = softmax(layers_3 @ weights_3_4 + biases_4)\n",
    "    \n",
    "    # print(cross_entropy(labels, layers_4))\n",
    "    \n",
    "    layers_4_delta = softmax_cross_entropy2deriv(labels, layers_4) # we combine dL/dz * dz/a\n",
    "    layers_3_delta = layers_4_delta @ weights_3_4.T * relu2deriv(layers_3)\n",
    "    layers_2_delta = layers_3_delta @ weights_2_3.T * relu2deriv(layers_2)\n",
    "    layers_1_delta = layers_2_delta @ weights_1_2.T * relu2deriv(layers_1) \n",
    "    \n",
    "    # we can add and add them.\n",
    "\n",
    "    \n",
    "    weights_3_4_velocity = beta*weights_3_4_velocity+alpha*(layers_3.T @ layers_4_delta)\n",
    "    weights_2_3_velocity = beta*weights_2_3_velocity+alpha*(layers_2.T @ layers_3_delta)\n",
    "    weights_1_2_velocity = beta*weights_1_2_velocity+alpha*(layers_1.T @ layers_2_delta)\n",
    "    weights_0_1_velocity = beta*weights_0_1_velocity+alpha*(layers_0.T @ layers_1_delta)\n",
    "\n",
    "    biases_4_velocity = beta*biases_4_velocity+alpha*layers_4_delta.sum(axis=0)\n",
    "    biases_3_velocity = beta*biases_3_velocity+alpha*layers_3_delta.sum(axis=0)\n",
    "    biases_2_velocity = beta*biases_2_velocity+alpha*layers_2_delta.sum(axis=0)\n",
    "    biases_1_velocity = beta*biases_1_velocity+alpha*layers_1_delta.sum(axis=0)\n",
    "    \n",
    "    weights_3_4 -= weights_3_4_velocity\n",
    "    weights_2_3 -= weights_2_3_velocity\n",
    "    weights_1_2 -= weights_1_2_velocity\n",
    "    weights_0_1 -= weights_0_1_velocity\n",
    "\n",
    "    biases_4 -= biases_4_velocity\n",
    "    biases_3 -= biases_3_velocity\n",
    "    biases_2 -= biases_2_velocity\n",
    "    biases_1 -= biases_1_velocity\n",
    "\n",
    "    layers_1 = relu(X_val @ weights_0_1 + biases_1) \n",
    "    layers_2 = relu(layers_1 @ weights_1_2 + biases_2)\n",
    "    layers_3 = relu(layers_2 @ weights_2_3 + biases_3)\n",
    "    layers_4 = softmax(layers_3 @ weights_3_4 + biases_4)\n",
    "    # THIS is the exact same way that Keras default AUC (which we use in reference) is computed!\n",
    "    x = roc_auc_score(y_val, layers_4, multi_class='ovr', average='macro')\n",
    "    lol.append(x)\n",
    "plt.figure()\n",
    "plt.plot(lol)\n",
    "plt.show()\n",
    "x"
   ]
  },
  {
   "cell_type": "markdown",
   "metadata": {},
   "source": [
    "### NAG"
   ]
  },
  {
   "cell_type": "code",
   "execution_count": 15,
   "metadata": {},
   "outputs": [
    {
     "data": {
      "image/png": "[encoded data removed]",
      "text/plain": [
       "<Figure size 640x480 with 1 Axes>"
      ]
     },
     "metadata": {},
     "output_type": "display_data"
    },
    {
     "data": {
      "text/plain": [
       "0.8377606957964812"
      ]
     },
     "execution_count": 15,
     "metadata": {},
     "output_type": "execute_result"
    }
   ],
   "source": [
    "for _ in range(300):\n",
    "    idx = np.random.choice(X_train.shape[0], 32, replace=False)\n",
    "    labels=y_train[idx]\n",
    "    layers_0 = X_train[idx]\n",
    "    \n",
    "    velocity_factor_weights_3_4 = beta*weights_3_4_velocity\n",
    "    velocity_factor_weights_2_3 = beta*weights_2_3_velocity\n",
    "    velocity_factor_weights_1_2 = beta*weights_1_2_velocity\n",
    "    velocity_factor_weights_0_1 = beta*weights_0_1_velocity\n",
    "\n",
    "    velocity_factor_biases_4 = beta*biases_4_velocity\n",
    "    velocity_factor_biases_3 = beta*biases_3_velocity\n",
    "    velocity_factor_biases_2 = beta*biases_2_velocity\n",
    "    velocity_factor_biases_1 = beta*biases_1_velocity\n",
    "\n",
    "    weights_3_4 -= velocity_factor_weights_3_4\n",
    "    weights_2_3 -= velocity_factor_weights_2_3\n",
    "    weights_1_2 -= velocity_factor_weights_1_2\n",
    "    weights_0_1 -= velocity_factor_weights_0_1\n",
    "    \n",
    "    biases_4 -= velocity_factor_biases_4\n",
    "    biases_3 -= velocity_factor_biases_3\n",
    "    biases_2 -= velocity_factor_biases_2\n",
    "    biases_1 -= velocity_factor_biases_1\n",
    "\n",
    "    layers_1 = relu(layers_0 @ weights_0_1 + biases_1) \n",
    "    dropout_mask = np.random.randint(2, size=layers_1.shape)\n",
    "    layers_1 *= dropout_mask * 2\n",
    "    layers_2 = relu(layers_1 @ weights_1_2 + biases_2)\n",
    "    dropout_mask = np.random.randint(2, size=layers_2.shape)\n",
    "    layers_2 *= dropout_mask * 2\n",
    "    layers_3 = relu(layers_2 @ weights_2_3 + biases_3)\n",
    "    dropout_mask = np.random.randint(2, size=layers_3.shape)\n",
    "    layers_3 *= dropout_mask * 2\n",
    "    layers_4 = softmax(layers_3 @ weights_3_4 + biases_4)\n",
    "    \n",
    "    # print(cross_entropy(labels, layers_4))\n",
    "    \n",
    "    layers_4_delta = softmax_cross_entropy2deriv(labels, layers_4) # we combine dL/dz * dz/a\n",
    "    layers_3_delta = layers_4_delta @ weights_3_4.T * relu2deriv(layers_3)\n",
    "    layers_3_delta *= dropout_mask\n",
    "    layers_2_delta = layers_3_delta @ weights_2_3.T * relu2deriv(layers_2)\n",
    "    layers_2_delta *= dropout_mask\n",
    "    layers_1_delta = layers_2_delta @ weights_1_2.T * relu2deriv(layers_1) \n",
    "    layers_1_delta *= dropout_mask\n",
    "    \n",
    "    # we can add and add them.\n",
    "\n",
    "    correction_factor_weights_3_4 = alpha*(layers_3.T @ layers_4_delta)\n",
    "    correction_factor_weights_2_3 = alpha*(layers_2.T @ layers_3_delta)\n",
    "    correction_factor_weights_1_2 = alpha*(layers_1.T @ layers_2_delta)\n",
    "    correction_factor_weights_0_1 = alpha*(layers_0.T @ layers_1_delta)\n",
    "    \n",
    "    correction_factor_biases_4 = alpha*layers_4_delta.sum(axis=0)\n",
    "    correction_factor_biases_3 = alpha*layers_3_delta.sum(axis=0)\n",
    "    correction_factor_biases_2 = alpha*layers_2_delta.sum(axis=0)\n",
    "    correction_factor_biases_1 = alpha*layers_1_delta.sum(axis=0)\n",
    "\n",
    "    weights_3_4 -= correction_factor_weights_3_4\n",
    "    weights_2_3 -= correction_factor_weights_2_3\n",
    "    weights_1_2 -= correction_factor_weights_1_2\n",
    "    weights_0_1 -= correction_factor_weights_0_1\n",
    "    \n",
    "    biases_4 -= correction_factor_biases_4\n",
    "    biases_3 -= correction_factor_biases_3\n",
    "    biases_2 -= correction_factor_biases_2\n",
    "    biases_1 -= correction_factor_biases_1\n",
    "    \n",
    "    weights_3_4_velocity = velocity_factor_weights_3_4 + correction_factor_weights_3_4\n",
    "    weights_2_3_velocity = velocity_factor_weights_2_3 + correction_factor_weights_2_3\n",
    "    weights_1_2_velocity = velocity_factor_weights_1_2 + correction_factor_weights_1_2\n",
    "    weights_0_1_velocity = velocity_factor_weights_0_1 + correction_factor_weights_0_1\n",
    "    \n",
    "    biases_4_velocity = velocity_factor_biases_4 + correction_factor_biases_4\n",
    "    biases_3_velocity = velocity_factor_biases_3 + correction_factor_biases_3\n",
    "    biases_2_velocity = velocity_factor_biases_2 + correction_factor_biases_2\n",
    "    biases_1_velocity = velocity_factor_biases_1 + correction_factor_biases_1\n",
    "    \n",
    "\n",
    "    layers_1 = relu(X_val @ weights_0_1 + biases_1) \n",
    "    layers_2 = relu(layers_1 @ weights_1_2 + biases_2)\n",
    "    layers_3 = relu(layers_2 @ weights_2_3 + biases_3)\n",
    "    layers_4 = softmax(layers_3 @ weights_3_4 + biases_4)\n",
    "    # THIS is the exact same way that Keras default AUC (which we use in reference) is computed!\n",
    "    # if y_val or layers_4 contain Nans, print them!\n",
    "    x = roc_auc_score(y_val, layers_4, multi_class='ovr', average='macro')\n",
    "    lol.append(x)\n",
    "plt.figure()\n",
    "plt.plot(lol)\n",
    "plt.show()\n",
    "x"
   ]
  }
 ],
 "metadata": {
  "kernelspec": {
   "display_name": ".venv",
   "language": "python",
   "name": "python3"
  },
  "language_info": {
   "codemirror_mode": {
    "name": "ipython",
    "version": 3
   },
   "file_extension": ".py",
   "mimetype": "text/x-python",
   "name": "python",
   "nbconvert_exporter": "python",
   "pygments_lexer": "ipython3",
   "version": "3.12.7"
  }
 },
 "nbformat": 4,
 "nbformat_minor": 2
}
